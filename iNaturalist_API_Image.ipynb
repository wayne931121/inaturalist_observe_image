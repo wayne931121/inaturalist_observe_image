{
  "nbformat": 4,
  "nbformat_minor": 0,
  "metadata": {
    "colab": {
      "provenance": []
    },
    "kernelspec": {
      "name": "python3",
      "display_name": "Python 3"
    },
    "language_info": {
      "name": "python"
    }
  },
  "cells": [
    {
      "cell_type": "markdown",
      "source": [
        "# 載入基本程式庫"
      ],
      "metadata": {
        "id": "kobb0wGGuWov"
      }
    },
    {
      "cell_type": "code",
      "execution_count": null,
      "metadata": {
        "id": "kk9YA0ChuOU8"
      },
      "outputs": [],
      "source": [
        "import cv2\n",
        "import numpy as np\n",
        "import time, datetime\n",
        "import requests, re, json\n",
        "\n",
        "def process_image(img): #image binary\n",
        "    img = cv2.imdecode(np.frombuffer(img, np.uint8), cv2.IMREAD_COLOR)\n",
        "    size = img.shape\n",
        "    width, height = 0,0\n",
        "    if size[0]>size[1]: #size[0] to 1024\n",
        "        width = 1024\n",
        "        height = int(size[1]*(width/size[0]))\n",
        "    else: #size[1] to 1024\n",
        "        height = 1024\n",
        "        width = int(size[0]*(height/size[1]))\n",
        "    image = cv2.resize(img, (width,height))\n",
        "    image = cv2.imencode(\".jpg\", image)[1].tobytes()\n",
        "    return image\n",
        "\n",
        "def observe(img, image_name):\n",
        "    session = requests.Session()\n",
        "    image = process_image(img)\n",
        "    files={\"image\":(image_name, image)}\n",
        "    payload = {\"observed_on\": get_time()} #使用現在日期時間\n",
        "    req = session.post('https://api.inaturalist.org/v1/computervision/score_image', data=payload, headers=headers, files=files)\n",
        "    result = req.content.decode(encoding=\"utf-8\")\n",
        "    result = json.loads(result)\n",
        "    #print(result)\n",
        "    spcies = []\n",
        "    for i in result['results']: \n",
        "        try:\n",
        "            spcies.append(i['taxon']['preferred_common_name'])\n",
        "        except Exception as e:\n",
        "            spcies.append(i['taxon']['name'])\n",
        "        #print(spcies[-1])\n",
        "    try:\n",
        "        data = {\"物種分類\":result['common_ancestor']['taxon'][\"preferred_common_name\"], \"準確率\":\"%.2f\"%result[\"common_ancestor\"][\"score\"], \"可能物種\":spcies}\n",
        "    except:\n",
        "        data = {\"準確率\":\"--\", \"物種分類\":\"無法辨識至屬，請嘗試裁減圖片，或者重新為生物照張相片\",\"可能物種\":spcies}\n",
        "    #datas = json.dumps(data)\n",
        "    return data\n",
        "\n",
        "def start(url):\n",
        "    r = requests.get(url, stream=True)\n",
        "    if r.status_code==200:\n",
        "      print(observe(r.raw.read(), \"圖片1\"))\n",
        "    else:\n",
        "      print(\"圖片抓取失敗，請確認圖片網址\")\n",
        "\n",
        "get_time = lambda: datetime.date.today().strftime(\"%Y/%m/%d\")+\" \"+time.strftime(\"%H:%M:%S\")"
      ]
    },
    {
      "cell_type": "markdown",
      "source": [
        "# 登錄您的iNaturalist帳號"
      ],
      "metadata": {
        "id": "nTK6jW3WudS_"
      }
    },
    {
      "cell_type": "code",
      "source": [
        "####登錄帳號####\n",
        "account = input(\"請輸入帳號(please input account):\")\n",
        "password = input(\"請輸入密碼(please input password):\")\n",
        "r = requests.get(\"https://www.inaturalist.org/\")\n",
        "token = re.search('<meta name=\"csrf-token\" content=\"(?P<token>[^\"]+)\"', r.text)[\"token\"]\n",
        "cookies = '_inaturalist_session:'+r.cookies.get_dict()['_inaturalist_session']\n",
        "session = requests.Session()\n",
        "headers = {\"User-Agent\": \"Mozilla/5.0 (Windows NT 10.0; Win64; x64) AppleWebKit/537.36 (KHTML, like Gecko) Chrome/114.0.0.0 Safari/537.36\",\n",
        "           \"Origin\": \"https://www.inaturalist.org\",\n",
        "           \"Referer\": \"https://www.inaturalist.org/users/sign_in\",}\n",
        "payload = {\"utf8\": \"✓\",\n",
        "           \"authenticity_token\": token,\n",
        "           \"user[email]\": account,\n",
        "           \"user[password]\": password,\n",
        "           \"user[remember_me]\": \"0\",\n",
        "           \"user[remember_me]\": \"1\"}\n",
        "#req = session.post('https://api.inaturalist.org/v1/computervision/score_image', data=payload, headers=headers, files=files)\n",
        "req = session.post(\"https://www.inaturalist.org/session\", data=payload, headers=headers, cookies=r.cookies)\n",
        "result = req.content.decode(encoding=\"utf-8\")\n",
        "Authorization = re.search('<meta name=\"inaturalist-api-token\" content=\"(?P<token>[^\"]+)\"', result)[\"token\"]\n",
        "print(\"Authorization:\",Authorization)\n",
        "headers = {\"User-Agent\": \"Mozilla/5.0 (Windows NT 10.0; Win64; x64) AppleWebKit/537.36 (KHTML, like Gecko) Chrome/114.0.0.0 Safari/537.36\",\n",
        "          \"Authorization\": Authorization,\n",
        "           \"Origin\": \"https://www.inaturalist.org\",\n",
        "           \"Referer\": \"https://www.inaturalist.org/\",\n",
        "           \"X-Via\": \"inaturalistjs\"}"
      ],
      "metadata": {
        "id": "mCt_kesiuV4_"
      },
      "execution_count": null,
      "outputs": []
    },
    {
      "cell_type": "markdown",
      "source": [
        "# 輸入圖片網址並取得觀察結果"
      ],
      "metadata": {
        "id": "ASzFNAU7uz6-"
      }
    },
    {
      "cell_type": "code",
      "source": [
        "url = input(\"請輸入圖片網址: \")\n",
        "start(url)"
      ],
      "metadata": {
        "id": "ZTaIvmZFu54Q"
      },
      "execution_count": null,
      "outputs": []
    }
  ]
}